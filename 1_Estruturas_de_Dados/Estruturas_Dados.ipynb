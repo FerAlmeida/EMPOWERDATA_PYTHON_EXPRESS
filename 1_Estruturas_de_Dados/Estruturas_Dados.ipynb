{
 "cells": [
  {
   "cell_type": "markdown",
   "metadata": {},
   "source": [
    "##### ESTRUTURA DE DADOS "
   ]
  },
  {
   "cell_type": "markdown",
   "metadata": {},
   "source": [
    "#### * LISTAS\n",
    "- Conjunto ordenado de elementos\n",
    "- Mutáveis\n",
    "- Heterogêneas\n",
    "- Possuem índice"
   ]
  },
  {
   "cell_type": "code",
   "execution_count": null,
   "metadata": {},
   "outputs": [],
   "source": [
    "convidados = [\"Ana Clara\", \"Maria Paula\", \"Julia Andrade\", \"Catarina Souza\"]"
   ]
  },
  {
   "cell_type": "markdown",
   "metadata": {},
   "source": [
    "###### * Acessando índice"
   ]
  },
  {
   "cell_type": "code",
   "execution_count": 6,
   "metadata": {},
   "outputs": [
    {
     "name": "stdout",
     "output_type": "stream",
     "text": [
      "['Ana Clara', 'Maria Paula', 'Julia Andrade', 'Catarina Souza']\n"
     ]
    }
   ],
   "source": [
    "convidados = [\"Ana Clara\", \"Maria Paula\", \"Julia Andrade\", \"Catarina Souza\"]\n",
    "print(convidados)"
   ]
  },
  {
   "cell_type": "code",
   "execution_count": 8,
   "metadata": {},
   "outputs": [
    {
     "name": "stdout",
     "output_type": "stream",
     "text": [
      "Maria Paula\n"
     ]
    }
   ],
   "source": [
    "convidados = [\"Ana Clara\", \"Maria Paula\", \"Julia Andrade\", \"Catarina Souza\"]\n",
    "print(convidados[1])"
   ]
  },
  {
   "cell_type": "code",
   "execution_count": 9,
   "metadata": {},
   "outputs": [
    {
     "name": "stdout",
     "output_type": "stream",
     "text": [
      "Ana Clara\n"
     ]
    }
   ],
   "source": [
    "convidados = [\"Ana Clara\", \"Maria Paula\", \"Julia Andrade\", \"Catarina Souza\"]\n",
    "print(convidados[0])"
   ]
  },
  {
   "cell_type": "code",
   "execution_count": 10,
   "metadata": {},
   "outputs": [
    {
     "name": "stdout",
     "output_type": "stream",
     "text": [
      "Catarina Souza\n"
     ]
    }
   ],
   "source": [
    "convidados = [\"Ana Clara\", \"Maria Paula\", \"Julia Andrade\", \"Catarina Souza\"]\n",
    "print(convidados[3])"
   ]
  },
  {
   "cell_type": "markdown",
   "metadata": {},
   "source": [
    "###### * Listas são MUTÁVEIS"
   ]
  },
  {
   "cell_type": "code",
   "execution_count": 12,
   "metadata": {},
   "outputs": [
    {
     "name": "stdout",
     "output_type": "stream",
     "text": [
      "['Ana Clara', 'Maria Paula', 'Julia Andrade', 'Catarina Souza', 10, 20, 30, 40, True, False]\n"
     ]
    }
   ],
   "source": [
    "convidados = [\"Ana Clara\", \"Maria Paula\", \"Julia Andrade\", \"Catarina Souza\", 10, 20, 30, 40, True, False]\n",
    "print(convidados)"
   ]
  },
  {
   "cell_type": "markdown",
   "metadata": {},
   "source": [
    "###### * Acessando a lista pelos últimos dados"
   ]
  },
  {
   "cell_type": "code",
   "execution_count": 19,
   "metadata": {},
   "outputs": [
    {
     "name": "stdout",
     "output_type": "stream",
     "text": [
      "True\n"
     ]
    }
   ],
   "source": [
    "convidados = [\"Ana Clara\", \"Maria Paula\", \"Julia Andrade\", \"Catarina Souza\", 10, 20, 30, 40, 80.77,True, False]\n",
    "print(convidados[-2])"
   ]
  },
  {
   "cell_type": "code",
   "execution_count": 17,
   "metadata": {},
   "outputs": [
    {
     "name": "stdout",
     "output_type": "stream",
     "text": [
      "Catarina Souza\n"
     ]
    }
   ],
   "source": [
    "convidados = [\"Ana Clara\", \"Maria Paula\", \"Julia Andrade\", \"Catarina Souza\", 10, 20, 30, 40, 80.77, True, False]\n",
    "print(convidados[-8])"
   ]
  },
  {
   "cell_type": "markdown",
   "metadata": {},
   "source": [
    "###### * Métodos de Listas"
   ]
  },
  {
   "cell_type": "code",
   "execution_count": 20,
   "metadata": {},
   "outputs": [
    {
     "name": "stdout",
     "output_type": "stream",
     "text": [
      "['Ana Clara', 'Maria Paula', 'Julia Andrade', 'Catarina Souza', 10, 20, 30, 40, 80.77, True, False, 'elemento adicionado com append']\n"
     ]
    }
   ],
   "source": [
    "# Adicionar um elemento a uma lista\n",
    "convidados.append(\"elemento adicionado com append\")\n",
    "print(convidados)"
   ]
  },
  {
   "cell_type": "code",
   "execution_count": 21,
   "metadata": {},
   "outputs": [
    {
     "name": "stdout",
     "output_type": "stream",
     "text": [
      "['Ana Clara', 'Maria Paula', 'Julia Andrade', 'Catarina Souza', 10, 20, 30, 40, 80.77, True, False]\n"
     ]
    }
   ],
   "source": [
    "# Removendo um elemento de uma lista com método \"\"remove\"\n",
    "convidados = convidados = [\"Ana Clara\", \"Maria Paula\", \"Julia Andrade\", \"Catarina Souza\", 10, 20, 30, 40, 80.77, True, False,\"elemento adicionado com append\"]\n",
    "convidados.remove(\"elemento adicionado com append\")\n",
    "print(convidados)"
   ]
  },
  {
   "cell_type": "markdown",
   "metadata": {},
   "source": [
    "###### * Lista dentro de outra lista"
   ]
  },
  {
   "cell_type": "code",
   "execution_count": 22,
   "metadata": {},
   "outputs": [
    {
     "name": "stdout",
     "output_type": "stream",
     "text": [
      "['Ana Clara', 'Maria Paula', 'Julia Andrade', 'Catarina Souza', 10, 20, 30, 40, 80.77, True, False, ['Fernando', 'Pedro', 'Gustavo', 'Ulisses']]\n"
     ]
    }
   ],
   "source": [
    "# Adicionando uma lista a outra lista\n",
    "mais_convidados = [\"Fernando\", \"Pedro\", \"Gustavo\",\"Ulisses\"]\n",
    "convidados.append(mais_convidados)\n",
    "print(convidados)"
   ]
  },
  {
   "cell_type": "markdown",
   "metadata": {},
   "source": [
    "###### * Acessando os elementos da lista adicionada"
   ]
  },
  {
   "cell_type": "code",
   "execution_count": 24,
   "metadata": {},
   "outputs": [
    {
     "name": "stdout",
     "output_type": "stream",
     "text": [
      "Fernando\n"
     ]
    }
   ],
   "source": [
    "convidados =  [\"Ana Clara\", \"Maria Paula\", \"Julia Andrade\", \"Catarina Souza\", 10, 20, 30, 40, 80.77, True, False,[\"Fernando\", \"Pedro\", \"Gustavo\",\"Ulisses\"]]\n",
    "print(convidados[11][0])"
   ]
  },
  {
   "cell_type": "code",
   "execution_count": 25,
   "metadata": {},
   "outputs": [
    {
     "name": "stdout",
     "output_type": "stream",
     "text": [
      "Ulisses\n"
     ]
    }
   ],
   "source": [
    "convidados =  [\"Ana Clara\", \"Maria Paula\", \"Julia Andrade\", \"Catarina Souza\", 10, 20, 30, 40, 80.77, True, False,[\"Fernando\", \"Pedro\", \"Gustavo\",\"Ulisses\"]]\n",
    "print(convidados[11][3])"
   ]
  }
 ],
 "metadata": {
  "kernelspec": {
   "display_name": "Python 3",
   "language": "python",
   "name": "python3"
  },
  "language_info": {
   "codemirror_mode": {
    "name": "ipython",
    "version": 3
   },
   "file_extension": ".py",
   "mimetype": "text/x-python",
   "name": "python",
   "nbconvert_exporter": "python",
   "pygments_lexer": "ipython3",
   "version": "3.12.2"
  }
 },
 "nbformat": 4,
 "nbformat_minor": 2
}
